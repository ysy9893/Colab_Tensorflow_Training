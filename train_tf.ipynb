{
  "nbformat": 4,
  "nbformat_minor": 0,
  "metadata": {
    "colab": {
      "name": "train_tf.ipynb",
      "provenance": [],
      "collapsed_sections": [],
      "toc_visible": true,
      "mount_file_id": "1TYSlBmfTBp5pdRbaK36aqkonJcvPSLuF",
      "authorship_tag": "ABX9TyN0tK6muWwOl0YVYRGPHIv0",
      "include_colab_link": true
    },
    "kernelspec": {
      "name": "python3",
      "display_name": "Python 3"
    },
    "accelerator": "GPU"
  },
  "cells": [
    {
      "cell_type": "markdown",
      "metadata": {
        "id": "view-in-github",
        "colab_type": "text"
      },
      "source": [
        "<a href=\"https://colab.research.google.com/github/ysy9893/Colab_Tensorflow_Training/blob/main/train_tf.ipynb\" target=\"_parent\"><img src=\"https://colab.research.google.com/assets/colab-badge.svg\" alt=\"Open In Colab\"/></a>"
      ]
    },
    {
      "cell_type": "markdown",
      "metadata": {
        "id": "A4qycdFjH2LO"
      },
      "source": [
        "# Training Object Detection Classifier on Colab "
      ]
    },
    {
      "cell_type": "markdown",
      "metadata": {
        "id": "brnyQDmzIIls"
      },
      "source": [
        "**The original tutorial is for people using window os and gpu supported pc.**\n",
        "**However, this tutorial referring most parts of original tutorial would support all os and who don't have any gpu supported pc in their households**\n",
        "\n",
        "\n",
        "\n"
      ]
    },
    {
      "cell_type": "markdown",
      "metadata": {
        "id": "xkDnpg2jLgMF"
      },
      "source": [
        "# 1. Downloads tensorflow Object Detection API repository from github and rename the filename to \"tensorflow1\"\n",
        "url: https://github.com/tensorflow/models\n",
        "\n",
        "Notice: When the runtime disconnects or halts, all downloaded folders would disappear. To cope with such situation, you have to move the folder into your google drive in advance.\n",
        "\n"
      ]
    },
    {
      "cell_type": "code",
      "metadata": {
        "id": "9Wy4NBF7MDJN"
      },
      "source": [
        "#!git clone https://github.com/tensorflow/models"
      ],
      "execution_count": null,
      "outputs": []
    },
    {
      "cell_type": "markdown",
      "metadata": {
        "id": "TTXtBTqzOcmi"
      },
      "source": [
        "# 2. Downloads the model from tensorflow's models and tutorial's repository \n",
        "\n",
        "There are a number of models provided by tensorflow, but in this case, we are gonna use the model mobilenet ssd version 2 quantized enabling fast inference in raspberrypi. \n",
        "\n",
        "You can download the model from the link below. \n",
        "https://github.com/tensorflow/models/blob/master/research/object_detection/g3doc/tf1_detection_zoo.md\n",
        "\n",
        "You can download the tutorial's repository from the original tutorial's github (use the command git clone!)\n",
        "\n",
        "https://github.com/EdjeElectronics/TensorFlow-Object-Detection-API-Tutorial-Train-Multiple-Objects-Windows-10.git\n"
      ]
    },
    {
      "cell_type": "markdown",
      "metadata": {
        "id": "ABK7Yk4zJIuC"
      },
      "source": [
        "# (Optional) Give some changes to object detection folder\n",
        "\n",
        "If you would like to train the model using your own dataset, you have to make some changes to object detection folder. \n",
        "\n",
        "(Be noticed that you should not delete the folder)\n",
        "\n",
        "Delete the following files \n",
        "1.   All files in \\object_detection\\images\\train and\n",
        "\\object_detection\\images\\test\n",
        "\n",
        "2.   The “test_labels.csv” and “train_labels.csv” files in \\object_detection\\images\n",
        "3. All files in \\object_detection\\training\n",
        "4. All files in \\object_detection\\inference_graph"
      ]
    },
    {
      "cell_type": "markdown",
      "metadata": {
        "id": "yhcxy3r1D7K6"
      },
      "source": [
        "# 3. Enable GPU runtime and confirm the connection of GPU with tensorflow \n",
        "\n",
        "In this tutorial the version of tensorflow is 1.15.2"
      ]
    },
    {
      "cell_type": "code",
      "metadata": {
        "colab": {
          "base_uri": "https://localhost:8080/"
        },
        "id": "QUGIAsOFFJ0W",
        "outputId": "a1819d54-e344-475d-ba05-6bc329e823a0"
      },
      "source": [
        "%tensorflow_version 1.x\n",
        "import tensorflow as tf\n",
        "device_name = tf.test.gpu_device_name()\n",
        "if device_name != '/device:GPU:0':\n",
        "  raise SystemError('GPU device not found')\n",
        "print('Found GPU at: {}'.format(device_name))\n",
        "print(\"tensorflow version: \",tf.__version__)"
      ],
      "execution_count": 1,
      "outputs": [
        {
          "output_type": "stream",
          "text": [
            "TensorFlow 1.x selected.\n",
            "Found GPU at: /device:GPU:0\n",
            "tensorflow version:  1.15.2\n"
          ],
          "name": "stdout"
        }
      ]
    },
    {
      "cell_type": "markdown",
      "metadata": {
        "id": "YXBgOzshGpKR"
      },
      "source": [
        "# 4. Install required packages "
      ]
    },
    {
      "cell_type": "code",
      "metadata": {
        "id": "gPC-RD8gLbQJ",
        "colab": {
          "base_uri": "https://localhost:8080/"
        },
        "outputId": "910ebbf8-4f57-47bf-b2e3-35443cce9e72"
      },
      "source": [
        "!python --version "
      ],
      "execution_count": 38,
      "outputs": [
        {
          "output_type": "stream",
          "text": [
            "Python 3.7.10\n"
          ],
          "name": "stdout"
        }
      ]
    },
    {
      "cell_type": "code",
      "metadata": {
        "colab": {
          "base_uri": "https://localhost:8080/"
        },
        "id": "hku71dgNFhCt",
        "outputId": "d0cb4505-a33a-4b2f-83b6-e28354307418"
      },
      "source": [
        "#####################Packages needed by tensorflow#########################\n",
        "!pip install protobuf #A language-neutral, platform-neutral, extensible way of serializing structured data for use in communications protocols, data storage, and more\n",
        "!pip install pillow #Python Imaging Library\n",
        "!pip install lxml #most feature-rich and easy-to-use library for processing XML and HTML in Python programming language\n",
        "!pip install Cython #source code translator based on Pyrex, but supports more cutting edge functionality and optimizations\n",
        "!pip install contextlib2\n",
        "!pip install jupyter\n",
        "!pip install matplotlib #library for creating static, animated, and interactive visualizations in Python\n",
        "!pip install tf_slim \n",
        "!pip install pycocotools\n",
        "####################Packages needed to generate TFRecords and to manipulate output images####################\n",
        "!pip install pandas #open source data analysis and manipulation tool, built on top of the Python programming language\n",
        "!pip install opencv-python #OpenCV-Python is a library of Python bindings designed to solve computer vision problems."
      ],
      "execution_count": 2,
      "outputs": [
        {
          "output_type": "stream",
          "text": [
            "Requirement already satisfied: protobuf in /usr/local/lib/python3.7/dist-packages (3.12.4)\n",
            "Requirement already satisfied: six>=1.9 in /usr/local/lib/python3.7/dist-packages (from protobuf) (1.15.0)\n",
            "Requirement already satisfied: setuptools in /usr/local/lib/python3.7/dist-packages (from protobuf) (54.1.2)\n",
            "Requirement already satisfied: pillow in /usr/local/lib/python3.7/dist-packages (7.0.0)\n",
            "Requirement already satisfied: lxml in /usr/local/lib/python3.7/dist-packages (4.2.6)\n",
            "Requirement already satisfied: Cython in /usr/local/lib/python3.7/dist-packages (0.29.22)\n",
            "Requirement already satisfied: contextlib2 in /usr/local/lib/python3.7/dist-packages (0.5.5)\n",
            "Requirement already satisfied: jupyter in /usr/local/lib/python3.7/dist-packages (1.0.0)\n",
            "Requirement already satisfied: jupyter-console in /usr/local/lib/python3.7/dist-packages (from jupyter) (5.2.0)\n",
            "Requirement already satisfied: notebook in /usr/local/lib/python3.7/dist-packages (from jupyter) (5.3.1)\n",
            "Requirement already satisfied: ipykernel in /usr/local/lib/python3.7/dist-packages (from jupyter) (4.10.1)\n",
            "Requirement already satisfied: ipywidgets in /usr/local/lib/python3.7/dist-packages (from jupyter) (7.6.3)\n",
            "Requirement already satisfied: nbconvert in /usr/local/lib/python3.7/dist-packages (from jupyter) (5.6.1)\n",
            "Requirement already satisfied: qtconsole in /usr/local/lib/python3.7/dist-packages (from jupyter) (5.0.3)\n",
            "Requirement already satisfied: prompt-toolkit<2.0.0,>=1.0.0 in /usr/local/lib/python3.7/dist-packages (from jupyter-console->jupyter) (1.0.18)\n",
            "Requirement already satisfied: jupyter-client in /usr/local/lib/python3.7/dist-packages (from jupyter-console->jupyter) (5.3.5)\n",
            "Requirement already satisfied: ipython in /usr/local/lib/python3.7/dist-packages (from jupyter-console->jupyter) (5.5.0)\n",
            "Requirement already satisfied: pygments in /usr/local/lib/python3.7/dist-packages (from jupyter-console->jupyter) (2.6.1)\n",
            "Requirement already satisfied: nbformat in /usr/local/lib/python3.7/dist-packages (from notebook->jupyter) (5.1.2)\n",
            "Requirement already satisfied: terminado>=0.8.1 in /usr/local/lib/python3.7/dist-packages (from notebook->jupyter) (0.9.2)\n",
            "Requirement already satisfied: Send2Trash in /usr/local/lib/python3.7/dist-packages (from notebook->jupyter) (1.5.0)\n",
            "Requirement already satisfied: traitlets>=4.2.1 in /usr/local/lib/python3.7/dist-packages (from notebook->jupyter) (5.0.5)\n",
            "Requirement already satisfied: jupyter-core>=4.4.0 in /usr/local/lib/python3.7/dist-packages (from notebook->jupyter) (4.7.1)\n",
            "Requirement already satisfied: ipython-genutils in /usr/local/lib/python3.7/dist-packages (from notebook->jupyter) (0.2.0)\n",
            "Requirement already satisfied: tornado>=4 in /usr/local/lib/python3.7/dist-packages (from notebook->jupyter) (5.1.1)\n",
            "Requirement already satisfied: jinja2 in /usr/local/lib/python3.7/dist-packages (from notebook->jupyter) (2.11.3)\n",
            "Requirement already satisfied: jupyterlab-widgets>=1.0.0; python_version >= \"3.6\" in /usr/local/lib/python3.7/dist-packages (from ipywidgets->jupyter) (1.0.0)\n",
            "Requirement already satisfied: widgetsnbextension~=3.5.0 in /usr/local/lib/python3.7/dist-packages (from ipywidgets->jupyter) (3.5.1)\n",
            "Requirement already satisfied: entrypoints>=0.2.2 in /usr/local/lib/python3.7/dist-packages (from nbconvert->jupyter) (0.3)\n",
            "Requirement already satisfied: defusedxml in /usr/local/lib/python3.7/dist-packages (from nbconvert->jupyter) (0.7.1)\n",
            "Requirement already satisfied: testpath in /usr/local/lib/python3.7/dist-packages (from nbconvert->jupyter) (0.4.4)\n",
            "Requirement already satisfied: mistune<2,>=0.8.1 in /usr/local/lib/python3.7/dist-packages (from nbconvert->jupyter) (0.8.4)\n",
            "Requirement already satisfied: bleach in /usr/local/lib/python3.7/dist-packages (from nbconvert->jupyter) (3.3.0)\n",
            "Requirement already satisfied: pandocfilters>=1.4.1 in /usr/local/lib/python3.7/dist-packages (from nbconvert->jupyter) (1.4.3)\n",
            "Requirement already satisfied: qtpy in /usr/local/lib/python3.7/dist-packages (from qtconsole->jupyter) (1.9.0)\n",
            "Requirement already satisfied: pyzmq>=17.1 in /usr/local/lib/python3.7/dist-packages (from qtconsole->jupyter) (22.0.3)\n",
            "Requirement already satisfied: six>=1.9.0 in /usr/local/lib/python3.7/dist-packages (from prompt-toolkit<2.0.0,>=1.0.0->jupyter-console->jupyter) (1.15.0)\n",
            "Requirement already satisfied: wcwidth in /usr/local/lib/python3.7/dist-packages (from prompt-toolkit<2.0.0,>=1.0.0->jupyter-console->jupyter) (0.2.5)\n",
            "Requirement already satisfied: python-dateutil>=2.1 in /usr/local/lib/python3.7/dist-packages (from jupyter-client->jupyter-console->jupyter) (2.8.1)\n",
            "Requirement already satisfied: simplegeneric>0.8 in /usr/local/lib/python3.7/dist-packages (from ipython->jupyter-console->jupyter) (0.8.1)\n",
            "Requirement already satisfied: decorator in /usr/local/lib/python3.7/dist-packages (from ipython->jupyter-console->jupyter) (4.4.2)\n",
            "Requirement already satisfied: pexpect; sys_platform != \"win32\" in /usr/local/lib/python3.7/dist-packages (from ipython->jupyter-console->jupyter) (4.8.0)\n",
            "Requirement already satisfied: pickleshare in /usr/local/lib/python3.7/dist-packages (from ipython->jupyter-console->jupyter) (0.7.5)\n",
            "Requirement already satisfied: setuptools>=18.5 in /usr/local/lib/python3.7/dist-packages (from ipython->jupyter-console->jupyter) (54.1.2)\n",
            "Requirement already satisfied: jsonschema!=2.5.0,>=2.4 in /usr/local/lib/python3.7/dist-packages (from nbformat->notebook->jupyter) (2.6.0)\n",
            "Requirement already satisfied: ptyprocess; os_name != \"nt\" in /usr/local/lib/python3.7/dist-packages (from terminado>=0.8.1->notebook->jupyter) (0.7.0)\n",
            "Requirement already satisfied: MarkupSafe>=0.23 in /usr/local/lib/python3.7/dist-packages (from jinja2->notebook->jupyter) (1.1.1)\n",
            "Requirement already satisfied: webencodings in /usr/local/lib/python3.7/dist-packages (from bleach->nbconvert->jupyter) (0.5.1)\n",
            "Requirement already satisfied: packaging in /usr/local/lib/python3.7/dist-packages (from bleach->nbconvert->jupyter) (20.9)\n",
            "Requirement already satisfied: pyparsing>=2.0.2 in /usr/local/lib/python3.7/dist-packages (from packaging->bleach->nbconvert->jupyter) (2.4.7)\n",
            "Requirement already satisfied: matplotlib in /usr/local/lib/python3.7/dist-packages (3.2.2)\n",
            "Requirement already satisfied: cycler>=0.10 in /usr/local/lib/python3.7/dist-packages (from matplotlib) (0.10.0)\n",
            "Requirement already satisfied: kiwisolver>=1.0.1 in /usr/local/lib/python3.7/dist-packages (from matplotlib) (1.3.1)\n",
            "Requirement already satisfied: numpy>=1.11 in /usr/local/lib/python3.7/dist-packages (from matplotlib) (1.19.5)\n",
            "Requirement already satisfied: python-dateutil>=2.1 in /usr/local/lib/python3.7/dist-packages (from matplotlib) (2.8.1)\n",
            "Requirement already satisfied: pyparsing!=2.0.4,!=2.1.2,!=2.1.6,>=2.0.1 in /usr/local/lib/python3.7/dist-packages (from matplotlib) (2.4.7)\n",
            "Requirement already satisfied: six in /usr/local/lib/python3.7/dist-packages (from cycler>=0.10->matplotlib) (1.15.0)\n",
            "Collecting tf_slim\n",
            "\u001b[?25l  Downloading https://files.pythonhosted.org/packages/02/97/b0f4a64df018ca018cc035d44f2ef08f91e2e8aa67271f6f19633a015ff7/tf_slim-1.1.0-py2.py3-none-any.whl (352kB)\n",
            "\u001b[K     |████████████████████████████████| 358kB 5.8MB/s \n",
            "\u001b[?25hRequirement already satisfied: absl-py>=0.2.2 in /usr/local/lib/python3.7/dist-packages (from tf_slim) (0.10.0)\n",
            "Requirement already satisfied: six in /usr/local/lib/python3.7/dist-packages (from absl-py>=0.2.2->tf_slim) (1.15.0)\n",
            "Installing collected packages: tf-slim\n",
            "Successfully installed tf-slim-1.1.0\n",
            "Requirement already satisfied: pycocotools in /usr/local/lib/python3.7/dist-packages (2.0.2)\n",
            "Requirement already satisfied: matplotlib>=2.1.0 in /usr/local/lib/python3.7/dist-packages (from pycocotools) (3.2.2)\n",
            "Requirement already satisfied: setuptools>=18.0 in /usr/local/lib/python3.7/dist-packages (from pycocotools) (54.1.2)\n",
            "Requirement already satisfied: cython>=0.27.3 in /usr/local/lib/python3.7/dist-packages (from pycocotools) (0.29.22)\n",
            "Requirement already satisfied: kiwisolver>=1.0.1 in /usr/local/lib/python3.7/dist-packages (from matplotlib>=2.1.0->pycocotools) (1.3.1)\n",
            "Requirement already satisfied: python-dateutil>=2.1 in /usr/local/lib/python3.7/dist-packages (from matplotlib>=2.1.0->pycocotools) (2.8.1)\n",
            "Requirement already satisfied: numpy>=1.11 in /usr/local/lib/python3.7/dist-packages (from matplotlib>=2.1.0->pycocotools) (1.19.5)\n",
            "Requirement already satisfied: pyparsing!=2.0.4,!=2.1.2,!=2.1.6,>=2.0.1 in /usr/local/lib/python3.7/dist-packages (from matplotlib>=2.1.0->pycocotools) (2.4.7)\n",
            "Requirement already satisfied: cycler>=0.10 in /usr/local/lib/python3.7/dist-packages (from matplotlib>=2.1.0->pycocotools) (0.10.0)\n",
            "Requirement already satisfied: six>=1.5 in /usr/local/lib/python3.7/dist-packages (from python-dateutil>=2.1->matplotlib>=2.1.0->pycocotools) (1.15.0)\n",
            "Requirement already satisfied: pandas in /usr/local/lib/python3.7/dist-packages (1.1.5)\n",
            "Requirement already satisfied: numpy>=1.15.4 in /usr/local/lib/python3.7/dist-packages (from pandas) (1.19.5)\n",
            "Requirement already satisfied: python-dateutil>=2.7.3 in /usr/local/lib/python3.7/dist-packages (from pandas) (2.8.1)\n",
            "Requirement already satisfied: pytz>=2017.2 in /usr/local/lib/python3.7/dist-packages (from pandas) (2018.9)\n",
            "Requirement already satisfied: six>=1.5 in /usr/local/lib/python3.7/dist-packages (from python-dateutil>=2.7.3->pandas) (1.15.0)\n",
            "Requirement already satisfied: opencv-python in /usr/local/lib/python3.7/dist-packages (4.1.2.30)\n",
            "Requirement already satisfied: numpy>=1.14.5 in /usr/local/lib/python3.7/dist-packages (from opencv-python) (1.19.5)\n"
          ],
          "name": "stdout"
        }
      ]
    },
    {
      "cell_type": "markdown",
      "metadata": {
        "id": "doXXIr4LKjXs"
      },
      "source": [
        "# 5. Configure PYTHONPATH environment variable \n",
        "\n",
        "PYTHONPATH variable must be created to the points at \n",
        "\n",
        "\n",
        "1. tensorflow1/models/research\n",
        "2. tensorflow1/models/research/slim\n",
        "3. tensorflow1/models\n",
        "\n",
        "Doing this, you can utilize python modules from those directories. \n"
      ]
    },
    {
      "cell_type": "code",
      "metadata": {
        "id": "OaTUkGNXHC9y"
      },
      "source": [
        "!set PYTHONPATH=/content/drive/MyDrive/인턴프로젝트/tensorflow1/models/research/slim"
      ],
      "execution_count": 3,
      "outputs": []
    },
    {
      "cell_type": "markdown",
      "metadata": {
        "id": "JuLPVEseNvxK"
      },
      "source": [
        "# 6. Compile Protobuf and run setup.py\n",
        "\n",
        "Compiling protobuf files enables configuration of model and training parameters. "
      ]
    },
    {
      "cell_type": "code",
      "metadata": {
        "colab": {
          "base_uri": "https://localhost:8080/"
        },
        "id": "EnQt4rkrKYj1",
        "outputId": "402bf237-d872-46dc-ab19-49acfc1ede65"
      },
      "source": [
        "%cd /content/drive/MyDrive/인턴프로젝트/tensorflow1/models/research"
      ],
      "execution_count": 4,
      "outputs": [
        {
          "output_type": "stream",
          "text": [
            "/content/drive/MyDrive/인턴프로젝트/tensorflow1/models/research\n"
          ],
          "name": "stdout"
        }
      ]
    },
    {
      "cell_type": "markdown",
      "metadata": {
        "id": "a23qLc5CQ5Nq"
      },
      "source": [
        "By implementing the command below, a name_pb2.py for each name.proto file would be newly created. "
      ]
    },
    {
      "cell_type": "code",
      "metadata": {
        "id": "ucImMmmkO1Ye"
      },
      "source": [
        "%%bash\n",
        "protoc object_detection/protos/*.proto --python_out=."
      ],
      "execution_count": 41,
      "outputs": []
    },
    {
      "cell_type": "markdown",
      "metadata": {
        "id": "V392cxqPRh17"
      },
      "source": [
        "Now, run setup.py from /content/drive/MyDrive/인턴프로젝트/tensorflow1/models/research/slim\n",
        "\n",
        "Notice: It is advised to delete BUILD file before running setup.py"
      ]
    },
    {
      "cell_type": "code",
      "metadata": {
        "colab": {
          "base_uri": "https://localhost:8080/"
        },
        "id": "QBHfRVp1Rf0G",
        "outputId": "2f5f7b4a-876e-44f6-d487-0c69f0c5bf8b"
      },
      "source": [
        "%cd /content/drive/MyDrive/인턴프로젝트/tensorflow1/models/research/slim"
      ],
      "execution_count": 5,
      "outputs": [
        {
          "output_type": "stream",
          "text": [
            "/content/drive/MyDrive/인턴프로젝트/tensorflow1/models/research/slim\n"
          ],
          "name": "stdout"
        }
      ]
    },
    {
      "cell_type": "code",
      "metadata": {
        "colab": {
          "base_uri": "https://localhost:8080/"
        },
        "id": "Kq2DKbTCPAtt",
        "outputId": "0b63611e-d21d-40e3-a3a0-8e10241a914c"
      },
      "source": [
        "!python setup.py build \n",
        "!python setup.py install "
      ],
      "execution_count": 6,
      "outputs": [
        {
          "output_type": "stream",
          "text": [
            "running build\n",
            "running build_py\n",
            "running egg_info\n",
            "writing slim.egg-info/PKG-INFO\n",
            "writing dependency_links to slim.egg-info/dependency_links.txt\n",
            "writing requirements to slim.egg-info/requires.txt\n",
            "writing top-level names to slim.egg-info/top_level.txt\n",
            "writing manifest file 'slim.egg-info/SOURCES.txt'\n",
            "running install\n",
            "running bdist_egg\n",
            "running egg_info\n",
            "writing slim.egg-info/PKG-INFO\n",
            "writing dependency_links to slim.egg-info/dependency_links.txt\n",
            "writing requirements to slim.egg-info/requires.txt\n",
            "writing top-level names to slim.egg-info/top_level.txt\n",
            "writing manifest file 'slim.egg-info/SOURCES.txt'\n",
            "installing library code to build/bdist.linux-x86_64/egg\n",
            "running install_lib\n",
            "running build_py\n",
            "creating build/bdist.linux-x86_64/egg\n",
            "creating build/bdist.linux-x86_64/egg/deployment\n",
            "copying build/lib/deployment/__init__.py -> build/bdist.linux-x86_64/egg/deployment\n",
            "copying build/lib/deployment/model_deploy_test.py -> build/bdist.linux-x86_64/egg/deployment\n",
            "copying build/lib/deployment/model_deploy.py -> build/bdist.linux-x86_64/egg/deployment\n",
            "creating build/bdist.linux-x86_64/egg/preprocessing\n",
            "copying build/lib/preprocessing/vgg_preprocessing.py -> build/bdist.linux-x86_64/egg/preprocessing\n",
            "copying build/lib/preprocessing/cifarnet_preprocessing.py -> build/bdist.linux-x86_64/egg/preprocessing\n",
            "copying build/lib/preprocessing/preprocessing_factory.py -> build/bdist.linux-x86_64/egg/preprocessing\n",
            "copying build/lib/preprocessing/inception_preprocessing.py -> build/bdist.linux-x86_64/egg/preprocessing\n",
            "copying build/lib/preprocessing/__init__.py -> build/bdist.linux-x86_64/egg/preprocessing\n",
            "copying build/lib/preprocessing/lenet_preprocessing.py -> build/bdist.linux-x86_64/egg/preprocessing\n",
            "creating build/bdist.linux-x86_64/egg/nets\n",
            "copying build/lib/nets/dcgan_test.py -> build/bdist.linux-x86_64/egg/nets\n",
            "copying build/lib/nets/vgg_test.py -> build/bdist.linux-x86_64/egg/nets\n",
            "copying build/lib/nets/mobilenet_v1.png -> build/bdist.linux-x86_64/egg/nets\n",
            "copying build/lib/nets/mobilenet_v1_train.py -> build/bdist.linux-x86_64/egg/nets\n",
            "copying build/lib/nets/i3d_test.py -> build/bdist.linux-x86_64/egg/nets\n",
            "copying build/lib/nets/nets_factory_test.py -> build/bdist.linux-x86_64/egg/nets\n",
            "copying build/lib/nets/inception_v3.py -> build/bdist.linux-x86_64/egg/nets\n",
            "copying build/lib/nets/overfeat_test.py -> build/bdist.linux-x86_64/egg/nets\n",
            "copying build/lib/nets/resnet_v1.py -> build/bdist.linux-x86_64/egg/nets\n",
            "copying build/lib/nets/cifarnet.py -> build/bdist.linux-x86_64/egg/nets\n",
            "copying build/lib/nets/resnet_v1_test.py -> build/bdist.linux-x86_64/egg/nets\n",
            "copying build/lib/nets/inception.py -> build/bdist.linux-x86_64/egg/nets\n",
            "copying build/lib/nets/i3d.py -> build/bdist.linux-x86_64/egg/nets\n",
            "copying build/lib/nets/overfeat.py -> build/bdist.linux-x86_64/egg/nets\n",
            "copying build/lib/nets/vgg.py -> build/bdist.linux-x86_64/egg/nets\n",
            "copying build/lib/nets/inception_resnet_v2.py -> build/bdist.linux-x86_64/egg/nets\n",
            "copying build/lib/nets/inception_v4.py -> build/bdist.linux-x86_64/egg/nets\n",
            "copying build/lib/nets/lenet.py -> build/bdist.linux-x86_64/egg/nets\n",
            "copying build/lib/nets/inception_v2_test.py -> build/bdist.linux-x86_64/egg/nets\n",
            "copying build/lib/nets/cyclegan.py -> build/bdist.linux-x86_64/egg/nets\n",
            "copying build/lib/nets/inception_v1_test.py -> build/bdist.linux-x86_64/egg/nets\n",
            "copying build/lib/nets/__init__.py -> build/bdist.linux-x86_64/egg/nets\n",
            "copying build/lib/nets/mobilenet_v1.md -> build/bdist.linux-x86_64/egg/nets\n",
            "copying build/lib/nets/post_training_quantization.py -> build/bdist.linux-x86_64/egg/nets\n",
            "copying build/lib/nets/cyclegan_test.py -> build/bdist.linux-x86_64/egg/nets\n",
            "copying build/lib/nets/s3dg_test.py -> build/bdist.linux-x86_64/egg/nets\n",
            "copying build/lib/nets/inception_resnet_v2_test.py -> build/bdist.linux-x86_64/egg/nets\n",
            "copying build/lib/nets/resnet_utils.py -> build/bdist.linux-x86_64/egg/nets\n",
            "copying build/lib/nets/inception_v2.py -> build/bdist.linux-x86_64/egg/nets\n",
            "copying build/lib/nets/s3dg.py -> build/bdist.linux-x86_64/egg/nets\n",
            "copying build/lib/nets/alexnet_test.py -> build/bdist.linux-x86_64/egg/nets\n",
            "copying build/lib/nets/resnet_v2.py -> build/bdist.linux-x86_64/egg/nets\n",
            "copying build/lib/nets/dcgan.py -> build/bdist.linux-x86_64/egg/nets\n",
            "copying build/lib/nets/alexnet.py -> build/bdist.linux-x86_64/egg/nets\n",
            "copying build/lib/nets/inception_v3_test.py -> build/bdist.linux-x86_64/egg/nets\n",
            "copying build/lib/nets/inception_utils.py -> build/bdist.linux-x86_64/egg/nets\n",
            "copying build/lib/nets/nets_factory.py -> build/bdist.linux-x86_64/egg/nets\n",
            "copying build/lib/nets/mobilenet_v1_eval.py -> build/bdist.linux-x86_64/egg/nets\n",
            "copying build/lib/nets/resnet_v2_test.py -> build/bdist.linux-x86_64/egg/nets\n",
            "copying build/lib/nets/inception_v1.py -> build/bdist.linux-x86_64/egg/nets\n",
            "copying build/lib/nets/pix2pix.py -> build/bdist.linux-x86_64/egg/nets\n",
            "copying build/lib/nets/mobilenet_v1_test.py -> build/bdist.linux-x86_64/egg/nets\n",
            "copying build/lib/nets/inception_v4_test.py -> build/bdist.linux-x86_64/egg/nets\n",
            "copying build/lib/nets/i3d_utils.py -> build/bdist.linux-x86_64/egg/nets\n",
            "copying build/lib/nets/mobilenet_v1.py -> build/bdist.linux-x86_64/egg/nets\n",
            "copying build/lib/nets/pix2pix_test.py -> build/bdist.linux-x86_64/egg/nets\n",
            "creating build/bdist.linux-x86_64/egg/nets/nasnet\n",
            "copying build/lib/nets/nasnet/README.md -> build/bdist.linux-x86_64/egg/nets/nasnet\n",
            "copying build/lib/nets/nasnet/pnasnet.py -> build/bdist.linux-x86_64/egg/nets/nasnet\n",
            "copying build/lib/nets/nasnet/nasnet_test.py -> build/bdist.linux-x86_64/egg/nets/nasnet\n",
            "copying build/lib/nets/nasnet/nasnet.py -> build/bdist.linux-x86_64/egg/nets/nasnet\n",
            "copying build/lib/nets/nasnet/nasnet_utils_test.py -> build/bdist.linux-x86_64/egg/nets/nasnet\n",
            "copying build/lib/nets/nasnet/nasnet_utils.py -> build/bdist.linux-x86_64/egg/nets/nasnet\n",
            "copying build/lib/nets/nasnet/pnasnet_test.py -> build/bdist.linux-x86_64/egg/nets/nasnet\n",
            "copying build/lib/nets/nasnet/__init__.py -> build/bdist.linux-x86_64/egg/nets/nasnet\n",
            "creating build/bdist.linux-x86_64/egg/nets/mobilenet\n",
            "copying build/lib/nets/mobilenet/mobilenet_v3.py -> build/bdist.linux-x86_64/egg/nets/mobilenet\n",
            "copying build/lib/nets/mobilenet/mobilenet_v3_test.py -> build/bdist.linux-x86_64/egg/nets/mobilenet\n",
            "copying build/lib/nets/mobilenet/conv_blocks.py -> build/bdist.linux-x86_64/egg/nets/mobilenet\n",
            "copying build/lib/nets/mobilenet/__init__.py -> build/bdist.linux-x86_64/egg/nets/mobilenet\n",
            "copying build/lib/nets/mobilenet/mnet_v1_vs_v2_pixel1_latency.png -> build/bdist.linux-x86_64/egg/nets/mobilenet\n",
            "copying build/lib/nets/mobilenet/README.md -> build/bdist.linux-x86_64/egg/nets/mobilenet\n",
            "copying build/lib/nets/mobilenet/mobilenet_v2.py -> build/bdist.linux-x86_64/egg/nets/mobilenet\n",
            "copying build/lib/nets/mobilenet/mobilenet.py -> build/bdist.linux-x86_64/egg/nets/mobilenet\n",
            "copying build/lib/nets/mobilenet/mobilenet_v2_test.py -> build/bdist.linux-x86_64/egg/nets/mobilenet\n",
            "copying build/lib/nets/mobilenet/mobilenet_example.ipynb -> build/bdist.linux-x86_64/egg/nets/mobilenet\n",
            "creating build/bdist.linux-x86_64/egg/nets/mobilenet/g3doc\n",
            "copying build/lib/nets/mobilenet/g3doc/latency_pixel1.png -> build/bdist.linux-x86_64/egg/nets/mobilenet/g3doc\n",
            "copying build/lib/nets/mobilenet/g3doc/madds_top1_accuracy.png -> build/bdist.linux-x86_64/egg/nets/mobilenet/g3doc\n",
            "copying build/lib/nets/mobilenet/g3doc/edgetpu_latency.png -> build/bdist.linux-x86_64/egg/nets/mobilenet/g3doc\n",
            "creating build/bdist.linux-x86_64/egg/datasets\n",
            "copying build/lib/datasets/mnist.py -> build/bdist.linux-x86_64/egg/datasets\n",
            "copying build/lib/datasets/download_and_convert_mnist.py -> build/bdist.linux-x86_64/egg/datasets\n",
            "copying build/lib/datasets/process_bounding_boxes.py -> build/bdist.linux-x86_64/egg/datasets\n",
            "copying build/lib/datasets/download_and_convert_visualwakewords.py -> build/bdist.linux-x86_64/egg/datasets\n",
            "copying build/lib/datasets/download_and_convert_imagenet.sh -> build/bdist.linux-x86_64/egg/datasets\n",
            "copying build/lib/datasets/dataset_utils.py -> build/bdist.linux-x86_64/egg/datasets\n",
            "copying build/lib/datasets/imagenet_lsvrc_2015_synsets.txt -> build/bdist.linux-x86_64/egg/datasets\n",
            "copying build/lib/datasets/visualwakewords.py -> build/bdist.linux-x86_64/egg/datasets\n",
            "copying build/lib/datasets/build_imagenet_data.py -> build/bdist.linux-x86_64/egg/datasets\n",
            "copying build/lib/datasets/flowers.py -> build/bdist.linux-x86_64/egg/datasets\n",
            "copying build/lib/datasets/imagenet_2012_validation_synset_labels.txt -> build/bdist.linux-x86_64/egg/datasets\n",
            "copying build/lib/datasets/imagenet.py -> build/bdist.linux-x86_64/egg/datasets\n",
            "copying build/lib/datasets/download_and_convert_flowers.py -> build/bdist.linux-x86_64/egg/datasets\n",
            "copying build/lib/datasets/dataset_factory.py -> build/bdist.linux-x86_64/egg/datasets\n",
            "copying build/lib/datasets/__init__.py -> build/bdist.linux-x86_64/egg/datasets\n",
            "copying build/lib/datasets/download_and_convert_cifar10.py -> build/bdist.linux-x86_64/egg/datasets\n",
            "copying build/lib/datasets/cifar10.py -> build/bdist.linux-x86_64/egg/datasets\n",
            "copying build/lib/datasets/imagenet_metadata.txt -> build/bdist.linux-x86_64/egg/datasets\n",
            "copying build/lib/datasets/download_imagenet.sh -> build/bdist.linux-x86_64/egg/datasets\n",
            "copying build/lib/datasets/download_and_convert_visualwakewords_lib.py -> build/bdist.linux-x86_64/egg/datasets\n",
            "copying build/lib/datasets/preprocess_imagenet_validation_data.py -> build/bdist.linux-x86_64/egg/datasets\n",
            "byte-compiling build/bdist.linux-x86_64/egg/deployment/__init__.py to __init__.cpython-37.pyc\n",
            "byte-compiling build/bdist.linux-x86_64/egg/deployment/model_deploy_test.py to model_deploy_test.cpython-37.pyc\n",
            "byte-compiling build/bdist.linux-x86_64/egg/deployment/model_deploy.py to model_deploy.cpython-37.pyc\n",
            "byte-compiling build/bdist.linux-x86_64/egg/preprocessing/vgg_preprocessing.py to vgg_preprocessing.cpython-37.pyc\n",
            "byte-compiling build/bdist.linux-x86_64/egg/preprocessing/cifarnet_preprocessing.py to cifarnet_preprocessing.cpython-37.pyc\n",
            "byte-compiling build/bdist.linux-x86_64/egg/preprocessing/preprocessing_factory.py to preprocessing_factory.cpython-37.pyc\n",
            "byte-compiling build/bdist.linux-x86_64/egg/preprocessing/inception_preprocessing.py to inception_preprocessing.cpython-37.pyc\n",
            "byte-compiling build/bdist.linux-x86_64/egg/preprocessing/__init__.py to __init__.cpython-37.pyc\n",
            "byte-compiling build/bdist.linux-x86_64/egg/preprocessing/lenet_preprocessing.py to lenet_preprocessing.cpython-37.pyc\n",
            "byte-compiling build/bdist.linux-x86_64/egg/nets/dcgan_test.py to dcgan_test.cpython-37.pyc\n",
            "byte-compiling build/bdist.linux-x86_64/egg/nets/vgg_test.py to vgg_test.cpython-37.pyc\n",
            "byte-compiling build/bdist.linux-x86_64/egg/nets/mobilenet_v1_train.py to mobilenet_v1_train.cpython-37.pyc\n",
            "byte-compiling build/bdist.linux-x86_64/egg/nets/i3d_test.py to i3d_test.cpython-37.pyc\n",
            "byte-compiling build/bdist.linux-x86_64/egg/nets/nets_factory_test.py to nets_factory_test.cpython-37.pyc\n",
            "byte-compiling build/bdist.linux-x86_64/egg/nets/inception_v3.py to inception_v3.cpython-37.pyc\n",
            "byte-compiling build/bdist.linux-x86_64/egg/nets/overfeat_test.py to overfeat_test.cpython-37.pyc\n",
            "byte-compiling build/bdist.linux-x86_64/egg/nets/resnet_v1.py to resnet_v1.cpython-37.pyc\n",
            "byte-compiling build/bdist.linux-x86_64/egg/nets/cifarnet.py to cifarnet.cpython-37.pyc\n",
            "byte-compiling build/bdist.linux-x86_64/egg/nets/resnet_v1_test.py to resnet_v1_test.cpython-37.pyc\n",
            "byte-compiling build/bdist.linux-x86_64/egg/nets/inception.py to inception.cpython-37.pyc\n",
            "byte-compiling build/bdist.linux-x86_64/egg/nets/i3d.py to i3d.cpython-37.pyc\n",
            "byte-compiling build/bdist.linux-x86_64/egg/nets/overfeat.py to overfeat.cpython-37.pyc\n",
            "byte-compiling build/bdist.linux-x86_64/egg/nets/vgg.py to vgg.cpython-37.pyc\n",
            "byte-compiling build/bdist.linux-x86_64/egg/nets/inception_resnet_v2.py to inception_resnet_v2.cpython-37.pyc\n",
            "byte-compiling build/bdist.linux-x86_64/egg/nets/inception_v4.py to inception_v4.cpython-37.pyc\n",
            "byte-compiling build/bdist.linux-x86_64/egg/nets/lenet.py to lenet.cpython-37.pyc\n",
            "byte-compiling build/bdist.linux-x86_64/egg/nets/inception_v2_test.py to inception_v2_test.cpython-37.pyc\n",
            "byte-compiling build/bdist.linux-x86_64/egg/nets/cyclegan.py to cyclegan.cpython-37.pyc\n",
            "byte-compiling build/bdist.linux-x86_64/egg/nets/inception_v1_test.py to inception_v1_test.cpython-37.pyc\n",
            "byte-compiling build/bdist.linux-x86_64/egg/nets/__init__.py to __init__.cpython-37.pyc\n",
            "byte-compiling build/bdist.linux-x86_64/egg/nets/post_training_quantization.py to post_training_quantization.cpython-37.pyc\n",
            "byte-compiling build/bdist.linux-x86_64/egg/nets/cyclegan_test.py to cyclegan_test.cpython-37.pyc\n",
            "byte-compiling build/bdist.linux-x86_64/egg/nets/s3dg_test.py to s3dg_test.cpython-37.pyc\n",
            "byte-compiling build/bdist.linux-x86_64/egg/nets/inception_resnet_v2_test.py to inception_resnet_v2_test.cpython-37.pyc\n",
            "byte-compiling build/bdist.linux-x86_64/egg/nets/resnet_utils.py to resnet_utils.cpython-37.pyc\n",
            "byte-compiling build/bdist.linux-x86_64/egg/nets/inception_v2.py to inception_v2.cpython-37.pyc\n",
            "byte-compiling build/bdist.linux-x86_64/egg/nets/s3dg.py to s3dg.cpython-37.pyc\n",
            "byte-compiling build/bdist.linux-x86_64/egg/nets/alexnet_test.py to alexnet_test.cpython-37.pyc\n",
            "byte-compiling build/bdist.linux-x86_64/egg/nets/resnet_v2.py to resnet_v2.cpython-37.pyc\n",
            "byte-compiling build/bdist.linux-x86_64/egg/nets/dcgan.py to dcgan.cpython-37.pyc\n",
            "byte-compiling build/bdist.linux-x86_64/egg/nets/alexnet.py to alexnet.cpython-37.pyc\n",
            "byte-compiling build/bdist.linux-x86_64/egg/nets/inception_v3_test.py to inception_v3_test.cpython-37.pyc\n",
            "byte-compiling build/bdist.linux-x86_64/egg/nets/inception_utils.py to inception_utils.cpython-37.pyc\n",
            "byte-compiling build/bdist.linux-x86_64/egg/nets/nets_factory.py to nets_factory.cpython-37.pyc\n",
            "byte-compiling build/bdist.linux-x86_64/egg/nets/mobilenet_v1_eval.py to mobilenet_v1_eval.cpython-37.pyc\n",
            "byte-compiling build/bdist.linux-x86_64/egg/nets/resnet_v2_test.py to resnet_v2_test.cpython-37.pyc\n",
            "byte-compiling build/bdist.linux-x86_64/egg/nets/inception_v1.py to inception_v1.cpython-37.pyc\n",
            "byte-compiling build/bdist.linux-x86_64/egg/nets/pix2pix.py to pix2pix.cpython-37.pyc\n",
            "byte-compiling build/bdist.linux-x86_64/egg/nets/mobilenet_v1_test.py to mobilenet_v1_test.cpython-37.pyc\n",
            "byte-compiling build/bdist.linux-x86_64/egg/nets/inception_v4_test.py to inception_v4_test.cpython-37.pyc\n",
            "byte-compiling build/bdist.linux-x86_64/egg/nets/i3d_utils.py to i3d_utils.cpython-37.pyc\n",
            "byte-compiling build/bdist.linux-x86_64/egg/nets/mobilenet_v1.py to mobilenet_v1.cpython-37.pyc\n",
            "byte-compiling build/bdist.linux-x86_64/egg/nets/pix2pix_test.py to pix2pix_test.cpython-37.pyc\n",
            "byte-compiling build/bdist.linux-x86_64/egg/nets/nasnet/pnasnet.py to pnasnet.cpython-37.pyc\n",
            "byte-compiling build/bdist.linux-x86_64/egg/nets/nasnet/nasnet_test.py to nasnet_test.cpython-37.pyc\n",
            "byte-compiling build/bdist.linux-x86_64/egg/nets/nasnet/nasnet.py to nasnet.cpython-37.pyc\n",
            "byte-compiling build/bdist.linux-x86_64/egg/nets/nasnet/nasnet_utils_test.py to nasnet_utils_test.cpython-37.pyc\n",
            "byte-compiling build/bdist.linux-x86_64/egg/nets/nasnet/nasnet_utils.py to nasnet_utils.cpython-37.pyc\n",
            "byte-compiling build/bdist.linux-x86_64/egg/nets/nasnet/pnasnet_test.py to pnasnet_test.cpython-37.pyc\n",
            "byte-compiling build/bdist.linux-x86_64/egg/nets/nasnet/__init__.py to __init__.cpython-37.pyc\n",
            "byte-compiling build/bdist.linux-x86_64/egg/nets/mobilenet/mobilenet_v3.py to mobilenet_v3.cpython-37.pyc\n",
            "byte-compiling build/bdist.linux-x86_64/egg/nets/mobilenet/mobilenet_v3_test.py to mobilenet_v3_test.cpython-37.pyc\n",
            "byte-compiling build/bdist.linux-x86_64/egg/nets/mobilenet/conv_blocks.py to conv_blocks.cpython-37.pyc\n",
            "byte-compiling build/bdist.linux-x86_64/egg/nets/mobilenet/__init__.py to __init__.cpython-37.pyc\n",
            "byte-compiling build/bdist.linux-x86_64/egg/nets/mobilenet/mobilenet_v2.py to mobilenet_v2.cpython-37.pyc\n",
            "byte-compiling build/bdist.linux-x86_64/egg/nets/mobilenet/mobilenet.py to mobilenet.cpython-37.pyc\n",
            "byte-compiling build/bdist.linux-x86_64/egg/nets/mobilenet/mobilenet_v2_test.py to mobilenet_v2_test.cpython-37.pyc\n",
            "byte-compiling build/bdist.linux-x86_64/egg/datasets/mnist.py to mnist.cpython-37.pyc\n",
            "byte-compiling build/bdist.linux-x86_64/egg/datasets/download_and_convert_mnist.py to download_and_convert_mnist.cpython-37.pyc\n",
            "byte-compiling build/bdist.linux-x86_64/egg/datasets/process_bounding_boxes.py to process_bounding_boxes.cpython-37.pyc\n",
            "byte-compiling build/bdist.linux-x86_64/egg/datasets/download_and_convert_visualwakewords.py to download_and_convert_visualwakewords.cpython-37.pyc\n",
            "byte-compiling build/bdist.linux-x86_64/egg/datasets/dataset_utils.py to dataset_utils.cpython-37.pyc\n",
            "byte-compiling build/bdist.linux-x86_64/egg/datasets/visualwakewords.py to visualwakewords.cpython-37.pyc\n",
            "byte-compiling build/bdist.linux-x86_64/egg/datasets/build_imagenet_data.py to build_imagenet_data.cpython-37.pyc\n",
            "byte-compiling build/bdist.linux-x86_64/egg/datasets/flowers.py to flowers.cpython-37.pyc\n",
            "byte-compiling build/bdist.linux-x86_64/egg/datasets/imagenet.py to imagenet.cpython-37.pyc\n",
            "byte-compiling build/bdist.linux-x86_64/egg/datasets/download_and_convert_flowers.py to download_and_convert_flowers.cpython-37.pyc\n",
            "byte-compiling build/bdist.linux-x86_64/egg/datasets/dataset_factory.py to dataset_factory.cpython-37.pyc\n",
            "byte-compiling build/bdist.linux-x86_64/egg/datasets/__init__.py to __init__.cpython-37.pyc\n",
            "byte-compiling build/bdist.linux-x86_64/egg/datasets/download_and_convert_cifar10.py to download_and_convert_cifar10.cpython-37.pyc\n",
            "byte-compiling build/bdist.linux-x86_64/egg/datasets/cifar10.py to cifar10.cpython-37.pyc\n",
            "byte-compiling build/bdist.linux-x86_64/egg/datasets/download_and_convert_visualwakewords_lib.py to download_and_convert_visualwakewords_lib.cpython-37.pyc\n",
            "byte-compiling build/bdist.linux-x86_64/egg/datasets/preprocess_imagenet_validation_data.py to preprocess_imagenet_validation_data.cpython-37.pyc\n",
            "creating build/bdist.linux-x86_64/egg/EGG-INFO\n",
            "copying slim.egg-info/PKG-INFO -> build/bdist.linux-x86_64/egg/EGG-INFO\n",
            "copying slim.egg-info/SOURCES.txt -> build/bdist.linux-x86_64/egg/EGG-INFO\n",
            "copying slim.egg-info/dependency_links.txt -> build/bdist.linux-x86_64/egg/EGG-INFO\n",
            "copying slim.egg-info/requires.txt -> build/bdist.linux-x86_64/egg/EGG-INFO\n",
            "copying slim.egg-info/top_level.txt -> build/bdist.linux-x86_64/egg/EGG-INFO\n",
            "zip_safe flag not set; analyzing archive contents...\n",
            "creating 'dist/slim-0.1-py3.7.egg' and adding 'build/bdist.linux-x86_64/egg' to it\n",
            "removing 'build/bdist.linux-x86_64/egg' (and everything under it)\n",
            "Processing slim-0.1-py3.7.egg\n",
            "Copying slim-0.1-py3.7.egg to /usr/local/lib/python3.7/dist-packages\n",
            "Adding slim 0.1 to easy-install.pth file\n",
            "\n",
            "Installed /usr/local/lib/python3.7/dist-packages/slim-0.1-py3.7.egg\n",
            "Processing dependencies for slim==0.1\n",
            "Searching for tf-slim==1.1.0\n",
            "Best match: tf-slim 1.1.0\n",
            "Adding tf-slim 1.1.0 to easy-install.pth file\n",
            "\n",
            "Using /usr/local/lib/python3.7/dist-packages\n",
            "Searching for six==1.15.0\n",
            "Best match: six 1.15.0\n",
            "Adding six 1.15.0 to easy-install.pth file\n",
            "\n",
            "Using /usr/local/lib/python3.7/dist-packages\n",
            "Searching for absl-py==0.10.0\n",
            "Best match: absl-py 0.10.0\n",
            "Adding absl-py 0.10.0 to easy-install.pth file\n",
            "\n",
            "Using /usr/local/lib/python3.7/dist-packages\n",
            "Finished processing dependencies for slim==0.1\n"
          ],
          "name": "stdout"
        }
      ]
    },
    {
      "cell_type": "markdown",
      "metadata": {
        "id": "5UBp3EY0rEtn"
      },
      "source": [
        "# 7. Collect and label data\n",
        "Collect your own data for training object detection calssifier. There's so many website providing well organized dataset!!(ex.Kaggle, OpenImage)\n",
        "\n",
        "Once you created dataset, it's time to label all desired objects for object detection using labeling software. \n",
        "I recommend you to use labelImg and set the label format to .xml!!\n",
        "\n",
        "labelImg URL: https://github.com/tzutalin/labelImg\n",
        "\n"
      ]
    },
    {
      "cell_type": "markdown",
      "metadata": {
        "id": "snrWa2nBLrFK"
      },
      "source": [
        "# 8. Generate TFRecord \n",
        "\n",
        "You cannot use .xml format files to train tensorflow model. To train tensorflow model, you need TFRecord serving as input feed, and there is a intermediate step to convert all xml files to TFRecord. \n",
        "\n"
      ]
    },
    {
      "cell_type": "markdown",
      "metadata": {
        "id": "Jmvot81GNu4w"
      },
      "source": [
        "*8.1 Convert xml files to csv files*"
      ]
    },
    {
      "cell_type": "code",
      "metadata": {
        "id": "5qmo7UvNq4FY",
        "colab": {
          "base_uri": "https://localhost:8080/"
        },
        "outputId": "a968c51c-1ee4-4def-aa73-a56ad317d199"
      },
      "source": [
        "%cd /content/drive/MyDrive/인턴프로젝트/tensorflow1/models/research/object_detection "
      ],
      "execution_count": 7,
      "outputs": [
        {
          "output_type": "stream",
          "text": [
            "/content/drive/MyDrive/인턴프로젝트/tensorflow1/models/research/object_detection\n"
          ],
          "name": "stdout"
        }
      ]
    },
    {
      "cell_type": "code",
      "metadata": {
        "colab": {
          "base_uri": "https://localhost:8080/"
        },
        "id": "dlchROdyOAf0",
        "outputId": "3222d965-918e-48b8-e496-fad9612c5ef7"
      },
      "source": [
        "!python xml_to_csv.py"
      ],
      "execution_count": 4,
      "outputs": [
        {
          "output_type": "stream",
          "text": [
            "Successfully converted xml to csv.\n",
            "Successfully converted xml to csv.\n"
          ],
          "name": "stdout"
        }
      ]
    },
    {
      "cell_type": "markdown",
      "metadata": {
        "id": "-0m2WnPjPedj"
      },
      "source": [
        "*8.2 Convert csv to TFRecord*\n",
        "\n",
        "Before running the script generating tf_record, edit some of lines in the script.\n",
        "\n",
        "Find the function defining class_text_to_int and edit names of classes according to your dataset classes."
      ]
    },
    {
      "cell_type": "code",
      "metadata": {
        "colab": {
          "base_uri": "https://localhost:8080/"
        },
        "id": "jhMiHEngQWNv",
        "outputId": "e7c8ca0e-7767-4bfe-f47a-0af9b4f0d28f"
      },
      "source": [
        "%cd /content/drive/MyDrive/인턴프로젝트/tensorflow1/models/research/object_detection"
      ],
      "execution_count": 5,
      "outputs": [
        {
          "output_type": "stream",
          "text": [
            "/content/drive/MyDrive/인턴프로젝트/tensorflow1/models/research/object_detection\n"
          ],
          "name": "stdout"
        }
      ]
    },
    {
      "cell_type": "code",
      "metadata": {
        "colab": {
          "base_uri": "https://localhost:8080/"
        },
        "id": "gAlQazhhOGJg",
        "outputId": "8ddbcf3a-a2aa-4b8d-c850-5f3747b2cc2f"
      },
      "source": [
        "!python generate_tfrecord.py --csv_input=./images/train_labels.csv --image_dir=./images/train --output_path=train.record"
      ],
      "execution_count": 7,
      "outputs": [
        {
          "output_type": "stream",
          "text": [
            "WARNING:tensorflow:From generate_tfrecord.py:109: The name tf.app.run is deprecated. Please use tf.compat.v1.app.run instead.\n",
            "\n",
            "WARNING:tensorflow:From generate_tfrecord.py:95: The name tf.python_io.TFRecordWriter is deprecated. Please use tf.io.TFRecordWriter instead.\n",
            "\n",
            "W0327 17:36:17.496087 140678704105344 module_wrapper.py:139] From generate_tfrecord.py:95: The name tf.python_io.TFRecordWriter is deprecated. Please use tf.io.TFRecordWriter instead.\n",
            "\n",
            "WARNING:tensorflow:From generate_tfrecord.py:54: The name tf.gfile.GFile is deprecated. Please use tf.io.gfile.GFile instead.\n",
            "\n",
            "W0327 17:36:17.999830 140678704105344 module_wrapper.py:139] From generate_tfrecord.py:54: The name tf.gfile.GFile is deprecated. Please use tf.io.gfile.GFile instead.\n",
            "\n",
            "Successfully created the TFRecords: /content/drive/My Drive/인턴프로젝트/tensorflow1/models/research/object_detection/train.record\n"
          ],
          "name": "stdout"
        }
      ]
    },
    {
      "cell_type": "markdown",
      "metadata": {
        "id": "LPaiseAwUNFk"
      },
      "source": [
        "No object_detection module error would be addressed replacing \"from object_detection.utils\" with \"from utils\""
      ]
    },
    {
      "cell_type": "code",
      "metadata": {
        "colab": {
          "base_uri": "https://localhost:8080/"
        },
        "id": "l9vq78fbQBAO",
        "outputId": "f27db6c3-b035-4603-8aff-de1683575ead"
      },
      "source": [
        "!python generate_tfrecord.py --csv_input=./images/test_labels.csv --image_dir=./images/test --output_path=test.record"
      ],
      "execution_count": 8,
      "outputs": [
        {
          "output_type": "stream",
          "text": [
            "WARNING:tensorflow:From generate_tfrecord.py:109: The name tf.app.run is deprecated. Please use tf.compat.v1.app.run instead.\n",
            "\n",
            "WARNING:tensorflow:From generate_tfrecord.py:95: The name tf.python_io.TFRecordWriter is deprecated. Please use tf.io.TFRecordWriter instead.\n",
            "\n",
            "W0327 17:55:11.680892 140343537604480 module_wrapper.py:139] From generate_tfrecord.py:95: The name tf.python_io.TFRecordWriter is deprecated. Please use tf.io.TFRecordWriter instead.\n",
            "\n",
            "WARNING:tensorflow:From generate_tfrecord.py:54: The name tf.gfile.GFile is deprecated. Please use tf.io.gfile.GFile instead.\n",
            "\n",
            "W0327 17:55:12.772600 140343537604480 module_wrapper.py:139] From generate_tfrecord.py:54: The name tf.gfile.GFile is deprecated. Please use tf.io.gfile.GFile instead.\n",
            "\n",
            "Successfully created the TFRecords: /content/drive/My Drive/인턴프로젝트/tensorflow1/models/research/object_detection/test.record\n"
          ],
          "name": "stdout"
        }
      ]
    },
    {
      "cell_type": "markdown",
      "metadata": {
        "id": "eP9JzuBCVcwb"
      },
      "source": [
        "# 9. Create label map and configure training "
      ]
    },
    {
      "cell_type": "markdown",
      "metadata": {
        "id": "GfB833FIU0EQ"
      },
      "source": [
        "This is the last preparation or configuration right before training the model.\n",
        "\n",
        "1. Label Map : Mapping each class(category) to index\n",
        "\n",
        "\n",
        "Make a new file under /object_detection/trainig direcotry and name it labelmap.pbtxt\n",
        "The format of the content should look like this. \n",
        "\n",
        "  item {\n",
        "  id: 1\n",
        "  name: 'class1'\n",
        "}\n",
        "\n",
        "  item {\n",
        "  id: 2\n",
        "  name: 'class2'\n",
        "}\n",
        "\n",
        "  item {\n",
        "  id: 3\n",
        "  name: 'class3'\n",
        "}\n",
        "\n",
        "\n",
        "2. Change config file\n",
        "\n",
        "Let's look up the config file of model used for running training from /object_detection/samples/configs directory. \n",
        "\n",
        "In this tutorial mobilent_ssd_v2_quantized would be used. \n",
        "\n",
        "Copy and paste the file into the /object/detection/trainig directory. \n",
        "\n",
        "Open it using the text editor and follow instructions below. \n",
        "\n",
        "* Line 9. Change num_classes to the number of different objects you want the classifier to detect. For my bird/squirrel/raccoon detector example, there are three classes, so I set num_classes: 3\n",
        "\n",
        "* Line 141. Change batch_size: 24 to batch_size: 6 . The smaller batch size will prevent OOM (Out of Memory) errors during training.\n",
        "\n",
        "* Line 156. Change fine_tune_checkpoint to: \"C:/tensorflow1/models/research/object_detection/ ssd_mobilenet_v2_quantized_300x300_coco_2019_01_03/model.ckpt.\"\n",
        "\n",
        "* Line 175. Change input_path to: \"C:/tensorflow1/models/research/object_detection/train.record\"\n",
        "\n",
        "* Line 177. Change label_map_path to: \"C:/tensorflow1/models/research/object_detection/training/labelmap.pbtxt\"\n",
        "\n",
        "* Line 181. Change num_examples to the number of images you have in the \\images\\test directory. For my bird/squirrel/raccoon detector example, there are 582 test images, so I set num_examples: 582.\n",
        "\n",
        "* Line 189. Change input_path to: \"C:/tensorflow1/models/research/object_detection/test.record\"\n",
        "\n",
        "* Line 191. Change label_map_path to: \"C:/tensorflow1/models/research/object_detection/training/labelmap.pbtxt\""
      ]
    },
    {
      "cell_type": "markdown",
      "metadata": {
        "id": "1AzXFOdWdY-l"
      },
      "source": [
        "# 10. Run training \n",
        "\n"
      ]
    },
    {
      "cell_type": "code",
      "metadata": {
        "colab": {
          "base_uri": "https://localhost:8080/"
        },
        "id": "33ZS7igk8Yf5",
        "outputId": "9f53a27a-8c11-4404-b035-dcbecf6fad4a"
      },
      "source": [
        "import sys \n",
        "print(sys.path)\n",
        "sys.path.append(\"/content/drive/MyDrive/인턴프로젝트/tensorflow1/models/research/slim\")\n",
        "print(sys.path)"
      ],
      "execution_count": 36,
      "outputs": [
        {
          "output_type": "stream",
          "text": [
            "['/tensorflow-1.15.2/python3.7', '', '/content', '/env/python', '/usr/lib/python37.zip', '/usr/lib/python3.7', '/usr/lib/python3.7/lib-dynload', '/usr/local/lib/python3.7/dist-packages', '/usr/lib/python3/dist-packages', '/usr/local/lib/python3.7/dist-packages/IPython/extensions', '/root/.ipython', '/content/drive/MyDrive/인턴프로젝트/tensorflow1/models/research/slim']\n",
            "['/tensorflow-1.15.2/python3.7', '', '/content', '/env/python', '/usr/lib/python37.zip', '/usr/lib/python3.7', '/usr/lib/python3.7/lib-dynload', '/usr/local/lib/python3.7/dist-packages', '/usr/lib/python3/dist-packages', '/usr/local/lib/python3.7/dist-packages/IPython/extensions', '/root/.ipython', '/content/drive/MyDrive/인턴프로젝트/tensorflow1/models/research/slim', '/content/drive/MyDrive/인턴프로젝트/tensorflow1/models/research/slim']\n"
          ],
          "name": "stdout"
        }
      ]
    },
    {
      "cell_type": "code",
      "metadata": {
        "colab": {
          "base_uri": "https://localhost:8080/"
        },
        "id": "liDQpoVtdfw5",
        "outputId": "d9c6e088-19f2-4c52-eaa8-af5c1ad101ae"
      },
      "source": [
        "%cd /content/drive/MyDrive/인턴프로젝트/tensorflow1/models/research\n",
        "!pip install lvis\n",
        "!pip install nets"
      ],
      "execution_count": 8,
      "outputs": [
        {
          "output_type": "stream",
          "text": [
            "/content/drive/MyDrive/인턴프로젝트/tensorflow1/models/research\n",
            "Collecting lvis\n",
            "  Downloading https://files.pythonhosted.org/packages/72/b6/1992240ab48310b5360bfdd1d53163f43bb97d90dc5dc723c67d41c38e78/lvis-0.5.3-py3-none-any.whl\n",
            "Requirement already satisfied: Cython>=0.29.12 in /usr/local/lib/python3.7/dist-packages (from lvis) (0.29.22)\n",
            "Requirement already satisfied: cycler>=0.10.0 in /usr/local/lib/python3.7/dist-packages (from lvis) (0.10.0)\n",
            "Requirement already satisfied: opencv-python>=4.1.0.25 in /usr/local/lib/python3.7/dist-packages (from lvis) (4.1.2.30)\n",
            "Requirement already satisfied: pyparsing>=2.4.0 in /usr/local/lib/python3.7/dist-packages (from lvis) (2.4.7)\n",
            "Requirement already satisfied: kiwisolver>=1.1.0 in /usr/local/lib/python3.7/dist-packages (from lvis) (1.3.1)\n",
            "Requirement already satisfied: numpy>=1.18.2 in /usr/local/lib/python3.7/dist-packages (from lvis) (1.19.5)\n",
            "Requirement already satisfied: six>=1.12.0 in /usr/local/lib/python3.7/dist-packages (from lvis) (1.15.0)\n",
            "Requirement already satisfied: matplotlib>=3.1.1 in /usr/local/lib/python3.7/dist-packages (from lvis) (3.2.2)\n",
            "Requirement already satisfied: python-dateutil>=2.8.0 in /usr/local/lib/python3.7/dist-packages (from lvis) (2.8.1)\n",
            "Installing collected packages: lvis\n",
            "Successfully installed lvis-0.5.3\n",
            "Collecting nets\n",
            "\u001b[?25l  Downloading https://files.pythonhosted.org/packages/d5/a2/87e48a200651d729982e9e202aab3fbb0c34536b1cf4b478445834f89f56/nets-0.0.3.1-py3-none-any.whl (71kB)\n",
            "\u001b[K     |████████████████████████████████| 71kB 3.5MB/s \n",
            "\u001b[?25hRequirement already satisfied: numpy in /usr/local/lib/python3.7/dist-packages (from nets) (1.19.5)\n",
            "Installing collected packages: nets\n",
            "Successfully installed nets-0.0.3.1\n"
          ],
          "name": "stdout"
        }
      ]
    },
    {
      "cell_type": "code",
      "metadata": {
        "id": "O3y83saOdjt2"
      },
      "source": [
        "!python model_main.py --model_dir=./object_detection/training/ --pipeline_config_path=./object_detection/training/ssd_mobilenet_v2_quantized_300x300_coco.config"
      ],
      "execution_count": null,
      "outputs": []
    },
    {
      "cell_type": "markdown",
      "metadata": {
        "id": "_tv_bP2eJCA4"
      },
      "source": [
        "# 11. Export the inference graph \n",
        "\n",
        "This create the .pb file under /object_detection/inference_graph directory.\n",
        "\n",
        "NOTICE: Unless you have to copy and move export_inference_graph.py into /research,there would be object detection module not found error."
      ]
    },
    {
      "cell_type": "code",
      "metadata": {
        "id": "58PpkN15enE7",
        "colab": {
          "base_uri": "https://localhost:8080/"
        },
        "outputId": "065134d9-4027-4b22-89bb-f4438e429a6b"
      },
      "source": [
        "%cd /content/drive/MyDrive/인턴프로젝트/tensorflow1/models/research"
      ],
      "execution_count": null,
      "outputs": [
        {
          "output_type": "stream",
          "text": [
            "/content/drive/MyDrive/인턴프로젝트/tensorflow1/models/research\n"
          ],
          "name": "stdout"
        }
      ]
    },
    {
      "cell_type": "code",
      "metadata": {
        "colab": {
          "base_uri": "https://localhost:8080/"
        },
        "id": "2c8dbnySJf4v",
        "outputId": "6bcddba1-1571-462f-a297-29c989540023"
      },
      "source": [
        "!python export_tflite_ssd_graph.py --input_type image_tensor --pipeline_config_path=./object_detection/training/ssd_mobilenet_v2_quantized_300x300_coco.config --trained_checkpoint_prefix ./object_detection/training/model.ckpt-200000 --output_directory ./object_detection/inference_graph/new_model --add_postprocessing_op=true"
      ],
      "execution_count": null,
      "outputs": [
        {
          "output_type": "stream",
          "text": [
            "python3: can't open file 'export_tflite_ssd_graph.py': [Errno 2] No such file or directory\n"
          ],
          "name": "stdout"
        }
      ]
    },
    {
      "cell_type": "code",
      "metadata": {
        "id": "uX-Gk1xuo0bW"
      },
      "source": [
        ""
      ],
      "execution_count": null,
      "outputs": []
    }
  ]
}